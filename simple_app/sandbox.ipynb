{
 "cells": [
  {
   "cell_type": "code",
   "execution_count": 1,
   "metadata": {},
   "outputs": [],
   "source": [
    "import pandas as pd"
   ]
  },
  {
   "cell_type": "code",
   "execution_count": 19,
   "metadata": {},
   "outputs": [],
   "source": [
    "df = pd.read_csv('default_table_dates.csv')"
   ]
  },
  {
   "cell_type": "code",
   "execution_count": 20,
   "metadata": {},
   "outputs": [
    {
     "data": {
      "text/html": [
       "<div>\n",
       "<style scoped>\n",
       "    .dataframe tbody tr th:only-of-type {\n",
       "        vertical-align: middle;\n",
       "    }\n",
       "\n",
       "    .dataframe tbody tr th {\n",
       "        vertical-align: top;\n",
       "    }\n",
       "\n",
       "    .dataframe thead th {\n",
       "        text-align: right;\n",
       "    }\n",
       "</style>\n",
       "<table border=\"1\" class=\"dataframe\">\n",
       "  <thead>\n",
       "    <tr style=\"text-align: right;\">\n",
       "      <th></th>\n",
       "      <th>day</th>\n",
       "      <th>ccc1</th>\n",
       "      <th>ccc2</th>\n",
       "    </tr>\n",
       "  </thead>\n",
       "  <tbody>\n",
       "    <tr>\n",
       "      <th>0</th>\n",
       "      <td>2018-07-15</td>\n",
       "      <td>qqq</td>\n",
       "      <td>1.70</td>\n",
       "    </tr>\n",
       "    <tr>\n",
       "      <th>1</th>\n",
       "      <td>2019-04-20</td>\n",
       "      <td>www</td>\n",
       "      <td>3.40</td>\n",
       "    </tr>\n",
       "    <tr>\n",
       "      <th>2</th>\n",
       "      <td>2020-01-27</td>\n",
       "      <td>eee</td>\n",
       "      <td>5.10</td>\n",
       "    </tr>\n",
       "    <tr>\n",
       "      <th>3</th>\n",
       "      <td>2018-07-16</td>\n",
       "      <td>qqq</td>\n",
       "      <td>2.55</td>\n",
       "    </tr>\n",
       "    <tr>\n",
       "      <th>4</th>\n",
       "      <td>2019-04-21</td>\n",
       "      <td>www</td>\n",
       "      <td>2.04</td>\n",
       "    </tr>\n",
       "    <tr>\n",
       "      <th>5</th>\n",
       "      <td>2020-01-28</td>\n",
       "      <td>eee</td>\n",
       "      <td>4.25</td>\n",
       "    </tr>\n",
       "    <tr>\n",
       "      <th>6</th>\n",
       "      <td>2018-07-17</td>\n",
       "      <td>qqq</td>\n",
       "      <td>2.21</td>\n",
       "    </tr>\n",
       "    <tr>\n",
       "      <th>7</th>\n",
       "      <td>2019-04-22</td>\n",
       "      <td>www</td>\n",
       "      <td>2.38</td>\n",
       "    </tr>\n",
       "    <tr>\n",
       "      <th>8</th>\n",
       "      <td>2020-01-29</td>\n",
       "      <td>eee</td>\n",
       "      <td>5.44</td>\n",
       "    </tr>\n",
       "    <tr>\n",
       "      <th>9</th>\n",
       "      <td>2018-07-18</td>\n",
       "      <td>qqq</td>\n",
       "      <td>3.23</td>\n",
       "    </tr>\n",
       "    <tr>\n",
       "      <th>10</th>\n",
       "      <td>2019-04-23</td>\n",
       "      <td>www</td>\n",
       "      <td>3.40</td>\n",
       "    </tr>\n",
       "    <tr>\n",
       "      <th>11</th>\n",
       "      <td>2020-01-30</td>\n",
       "      <td>eee</td>\n",
       "      <td>5.95</td>\n",
       "    </tr>\n",
       "  </tbody>\n",
       "</table>\n",
       "</div>"
      ],
      "text/plain": [
       "           day ccc1  ccc2\n",
       "0   2018-07-15  qqq  1.70\n",
       "1   2019-04-20  www  3.40\n",
       "2   2020-01-27  eee  5.10\n",
       "3   2018-07-16  qqq  2.55\n",
       "4   2019-04-21  www  2.04\n",
       "5   2020-01-28  eee  4.25\n",
       "6   2018-07-17  qqq  2.21\n",
       "7   2019-04-22  www  2.38\n",
       "8   2020-01-29  eee  5.44\n",
       "9   2018-07-18  qqq  3.23\n",
       "10  2019-04-23  www  3.40\n",
       "11  2020-01-30  eee  5.95"
      ]
     },
     "execution_count": 20,
     "metadata": {},
     "output_type": "execute_result"
    }
   ],
   "source": [
    "df"
   ]
  },
  {
   "cell_type": "code",
   "execution_count": 21,
   "metadata": {},
   "outputs": [
    {
     "data": {
      "text/plain": [
       "day      object\n",
       "ccc1     object\n",
       "ccc2    float64\n",
       "dtype: object"
      ]
     },
     "execution_count": 21,
     "metadata": {},
     "output_type": "execute_result"
    }
   ],
   "source": [
    "df.dtypes"
   ]
  },
  {
   "cell_type": "code",
   "execution_count": 22,
   "metadata": {},
   "outputs": [],
   "source": [
    "def date_col_integrity(ser):\n",
    "    if not isinstance(ser[0], str):\n",
    "        ser = ser.astype(str)\n",
    "    if '-' in ser[0]:\n",
    "        sep = '-'\n",
    "    elif '/' in ser[0]:\n",
    "        sep = '/'\n",
    "    else:\n",
    "        return False, 'no separator found'\n",
    "    date_parts = ser.apply(lambda x: x.split(sep))\n",
    "    if (date_parts.apply(lambda x: len(x)) == 3).all():\n",
    "        try:\n",
    "            datetime_ser = pd.to_datetime(ser)\n",
    "            return True, datetime_ser\n",
    "        except:\n",
    "            return False, 'error converting to datetime'\n",
    "    else:\n",
    "        return False, 'not all dates have exactly 3 components'"
   ]
  },
  {
   "cell_type": "code",
   "execution_count": 23,
   "metadata": {},
   "outputs": [
    {
     "data": {
      "text/plain": [
       "(True,\n",
       " 0    2018-07-15\n",
       " 1    2019-04-20\n",
       " 2    2020-01-27\n",
       " 3    2018-07-16\n",
       " 4    2019-04-21\n",
       " 5    2020-01-28\n",
       " 6    2018-07-17\n",
       " 7    2019-04-22\n",
       " 8    2020-01-29\n",
       " 9    2018-07-18\n",
       " 10   2019-04-23\n",
       " 11   2020-01-30\n",
       " Name: day, dtype: datetime64[ns])"
      ]
     },
     "execution_count": 23,
     "metadata": {},
     "output_type": "execute_result"
    }
   ],
   "source": [
    "date_col_integrity(df['day'])"
   ]
  },
  {
   "cell_type": "code",
   "execution_count": 7,
   "metadata": {},
   "outputs": [
    {
     "data": {
      "text/plain": [
       "0       [2018-07-15]\n",
       "1       [04, 20, 19]\n",
       "2       [01-27-2020]\n",
       "3     [2018, 07, 16]\n",
       "4       [2019-04-21]\n",
       "5       [2020-01-28]\n",
       "6       [2018-07-17]\n",
       "7       [2019-04-22]\n",
       "8       [2020-01-29]\n",
       "9       [2018-07-18]\n",
       "10      [2019-04-23]\n",
       "11      [2020-01-30]\n",
       "Name: day, dtype: object"
      ]
     },
     "execution_count": 7,
     "metadata": {},
     "output_type": "execute_result"
    }
   ],
   "source": [
    "q = df['day'].apply(lambda x: x.split('/'))\n",
    "q"
   ]
  },
  {
   "cell_type": "code",
   "execution_count": 8,
   "metadata": {},
   "outputs": [
    {
     "data": {
      "text/plain": [
       "False"
      ]
     },
     "execution_count": 8,
     "metadata": {},
     "output_type": "execute_result"
    }
   ],
   "source": [
    "(q.apply(lambda x: len(x)) == 3).all()"
   ]
  },
  {
   "cell_type": "code",
   "execution_count": 9,
   "metadata": {},
   "outputs": [
    {
     "data": {
      "text/plain": [
       "0    2018-07-15\n",
       "1    2019-04-20\n",
       "2    2020-01-27\n",
       "3    2018-07-16\n",
       "4    2019-04-21\n",
       "5    2020-01-28\n",
       "6    2018-07-17\n",
       "7    2019-04-22\n",
       "8    2020-01-29\n",
       "9    2018-07-18\n",
       "10   2019-04-23\n",
       "11   2020-01-30\n",
       "Name: day, dtype: datetime64[ns]"
      ]
     },
     "execution_count": 9,
     "metadata": {},
     "output_type": "execute_result"
    }
   ],
   "source": [
    "pd.to_datetime(df['day'])"
   ]
  },
  {
   "cell_type": "code",
   "execution_count": null,
   "metadata": {},
   "outputs": [],
   "source": []
  }
 ],
 "metadata": {
  "kernelspec": {
   "display_name": "Python 3",
   "language": "python",
   "name": "python3"
  },
  "language_info": {
   "codemirror_mode": {
    "name": "ipython",
    "version": 3
   },
   "file_extension": ".py",
   "mimetype": "text/x-python",
   "name": "python",
   "nbconvert_exporter": "python",
   "pygments_lexer": "ipython3",
   "version": "3.7.6"
  }
 },
 "nbformat": 4,
 "nbformat_minor": 4
}

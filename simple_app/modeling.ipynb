{
 "cells": [
  {
   "cell_type": "code",
   "execution_count": 1,
   "metadata": {},
   "outputs": [
    {
     "name": "stdout",
     "output_type": "stream",
     "text": [
      "here1\n",
      "Message:  training model\n",
      "here2\n"
     ]
    },
    {
     "name": "stderr",
     "output_type": "stream",
     "text": [
      "INFO:numexpr.utils:NumExpr defaulting to 4 threads.\n"
     ]
    },
    {
     "name": "stdout",
     "output_type": "stream",
     "text": [
      "here3\n",
      "here4\n",
      "Message:  making predictions\n",
      "          ds     yhat\n",
      "0 2015-01-04  1.38307\n",
      "1 2015-01-04  1.38307\n"
     ]
    }
   ],
   "source": [
    "# clean\n",
    "from fbprophet import Prophet\n",
    "import pandas as pd\n",
    "\n",
    "dataset= pd.read_csv('avocado.csv')\n",
    "X= dataset[['Date','Total Volume', '4046', '4225', '4770',\n",
    " 'Small Bags', 'Large Bags', 'XLarge Bags', 'type']]\n",
    "y= dataset[['AveragePrice']]\n",
    "\n",
    "train_dataset= pd.DataFrame()\n",
    "train_dataset['ds'] = pd.to_datetime(X[\"Date\"])\n",
    "train_dataset['y']=y\n",
    "\n",
    "def make_predictions(df, days_ahead=30):\n",
    "    yield ['msg', 'training model']\n",
    "    prophet = Prophet(weekly_seasonality=False, daily_seasonality=False)\n",
    "    prophet.fit(df)\n",
    "    yield ['msg', 'making predictions']\n",
    "    future = prophet.make_future_dataframe(periods=days_ahead)\n",
    "    forecast = prophet.predict(future)\n",
    "    yield ['results', forecast[['ds', 'yhat']]]\n",
    "    \n",
    "for q in make_predictions(train_dataset):\n",
    "    if q[0] == 'msg':\n",
    "        print('Message: ', q[1])\n",
    "    else:\n",
    "        print(q[1].head(2))"
   ]
  },
  {
   "cell_type": "code",
   "execution_count": 2,
   "metadata": {},
   "outputs": [
    {
     "ename": "NameError",
     "evalue": "name 'abc' is not defined",
     "output_type": "error",
     "traceback": [
      "\u001b[0;31m---------------------------------------------------------------------------\u001b[0m",
      "\u001b[0;31mNameError\u001b[0m                                 Traceback (most recent call last)",
      "\u001b[0;32m<ipython-input-2-03cfd743661f>\u001b[0m in \u001b[0;36m<module>\u001b[0;34m\u001b[0m\n\u001b[0;32m----> 1\u001b[0;31m \u001b[0mabc\u001b[0m\u001b[0;34m\u001b[0m\u001b[0;34m\u001b[0m\u001b[0m\n\u001b[0m",
      "\u001b[0;31mNameError\u001b[0m: name 'abc' is not defined"
     ]
    }
   ],
   "source": [
    "abc"
   ]
  },
  {
   "cell_type": "code",
   "execution_count": null,
   "metadata": {},
   "outputs": [],
   "source": [
    "from fbprophet import Prophet\n",
    "from fbprophet.plot import plot_plotly\n",
    "import numpy as np\n",
    "import pandas as pd\n",
    "\n",
    "import matplotlib.pyplot as plt\n",
    "import plotly.offline as py\n",
    "py.init_notebook_mode()\n",
    "%matplotlib inline\n",
    "\n",
    "from sklearn.preprocessing import LabelEncoder"
   ]
  },
  {
   "cell_type": "code",
   "execution_count": null,
   "metadata": {},
   "outputs": [],
   "source": [
    "dataset= pd.read_csv('avocado.csv')"
   ]
  },
  {
   "cell_type": "code",
   "execution_count": null,
   "metadata": {},
   "outputs": [],
   "source": [
    "dataset.drop(columns=['Unnamed: 0'], inplace=True)"
   ]
  },
  {
   "cell_type": "code",
   "execution_count": null,
   "metadata": {},
   "outputs": [],
   "source": [
    "dataset.head(2)"
   ]
  },
  {
   "cell_type": "code",
   "execution_count": null,
   "metadata": {},
   "outputs": [],
   "source": [
    "dataset.info()"
   ]
  },
  {
   "cell_type": "code",
   "execution_count": null,
   "metadata": {},
   "outputs": [],
   "source": [
    "dataset.describe(include='O')"
   ]
  },
  {
   "cell_type": "code",
   "execution_count": null,
   "metadata": {},
   "outputs": [],
   "source": [
    "le = LabelEncoder()\n",
    "dataset.iloc[:,10] = le.fit_transform(dataset.iloc[:,10])\n",
    "dataset.head(2)"
   ]
  },
  {
   "cell_type": "code",
   "execution_count": null,
   "metadata": {},
   "outputs": [],
   "source": [
    "X= dataset[['Date','Total Volume', '4046', '4225', '4770',\n",
    " 'Small Bags', 'Large Bags', 'XLarge Bags', 'type']]\n",
    "y= dataset[['AveragePrice']]\n",
    "\n",
    "train_dataset= pd.DataFrame()\n",
    "train_dataset['ds'] = pd.to_datetime(X[\"Date\"])\n",
    "train_dataset['y']=y"
   ]
  },
  {
   "cell_type": "code",
   "execution_count": null,
   "metadata": {},
   "outputs": [],
   "source": [
    "train_dataset= pd.DataFrame()\n",
    "train_dataset['ds'] = pd.to_datetime(X[\"Date\"])\n",
    "train_dataset['y']=y\n",
    "train_dataset.head(2)"
   ]
  },
  {
   "cell_type": "code",
   "execution_count": null,
   "metadata": {},
   "outputs": [],
   "source": [
    "train_dataset.shape"
   ]
  },
  {
   "cell_type": "code",
   "execution_count": null,
   "metadata": {},
   "outputs": [],
   "source": [
    "def make_predictions(df, days_ahead=30):\n",
    "    yield ['msg', 'training model']\n",
    "    prophet = Prophet()\n",
    "    prophet.fit(df)\n",
    "    yield ['msg', 'making predictions']\n",
    "    future = prophet.make_future_dataframe(periods=days_ahead)\n",
    "    forecast = prophet.predict(future)\n",
    "    yield ['results', forecast[['ds', 'yhat']]]"
   ]
  },
  {
   "cell_type": "code",
   "execution_count": null,
   "metadata": {},
   "outputs": [],
   "source": [
    "#results = \n",
    "for q in make_predictions(train_dataset):\n",
    "    if q[0] == 'msg':\n",
    "        print('Message: ', q[1])\n",
    "    else:\n",
    "        print(q[1].head(2))"
   ]
  },
  {
   "cell_type": "code",
   "execution_count": null,
   "metadata": {},
   "outputs": [],
   "source": [
    "abc"
   ]
  },
  {
   "cell_type": "code",
   "execution_count": null,
   "metadata": {
    "scrolled": true
   },
   "outputs": [],
   "source": [
    "prophet_basic = Prophet()\n",
    "prophet_basic.fit(train_dataset)"
   ]
  },
  {
   "cell_type": "code",
   "execution_count": null,
   "metadata": {},
   "outputs": [],
   "source": [
    "future= prophet_basic.make_future_dataframe(periods=300)"
   ]
  },
  {
   "cell_type": "code",
   "execution_count": null,
   "metadata": {},
   "outputs": [],
   "source": [
    "future.shape # contains all provided historical dates + n_periods (300 in our case)"
   ]
  },
  {
   "cell_type": "code",
   "execution_count": null,
   "metadata": {},
   "outputs": [],
   "source": [
    "future.tail(2)"
   ]
  },
  {
   "cell_type": "code",
   "execution_count": null,
   "metadata": {},
   "outputs": [],
   "source": [
    "forecast=prophet_basic.predict(future)"
   ]
  },
  {
   "cell_type": "code",
   "execution_count": null,
   "metadata": {},
   "outputs": [],
   "source": [
    "forecast"
   ]
  },
  {
   "cell_type": "code",
   "execution_count": null,
   "metadata": {},
   "outputs": [],
   "source": [
    "fig1 =prophet_basic.plot(forecast)"
   ]
  },
  {
   "cell_type": "code",
   "execution_count": null,
   "metadata": {},
   "outputs": [],
   "source": [
    "df = pd.DataFrame({'col1': ['2018-01-02'], \n",
    "                   'col2': ['01-02-2018'], \n",
    "                   'col3': ['31-01-2018'],\n",
    "                   #'col4': ['2018-31-01'],\n",
    "                   'col5': ['2018-01-31'],\n",
    "                   'col6': ['01-31-2018'],\n",
    "                   #'col7': ['31-31-2018'],\n",
    "                   'col8': ['31-01-2018'],\n",
    "                   'col9': ['31-01-2018']})\n",
    "df\n",
    "# yyyy-mm-dd\n",
    "# mm-dd-yyyy\n",
    "# yyyy/mm/dd\n",
    "# mm/dd/yyyyweekly_seasonality\n"
   ]
  },
  {
   "cell_type": "code",
   "execution_count": null,
   "metadata": {},
   "outputs": [],
   "source": [
    "for col in df.columns:\n",
    "    q = df[col].apply(pd.to_datetime)\n",
    "    print(q)"
   ]
  },
  {
   "cell_type": "code",
   "execution_count": null,
   "metadata": {},
   "outputs": [],
   "source": []
  }
 ],
 "metadata": {
  "kernelspec": {
   "display_name": "Python 3",
   "language": "python",
   "name": "python3"
  },
  "language_info": {
   "codemirror_mode": {
    "name": "ipython",
    "version": 3
   },
   "file_extension": ".py",
   "mimetype": "text/x-python",
   "name": "python",
   "nbconvert_exporter": "python",
   "pygments_lexer": "ipython3",
   "version": "3.7.6"
  }
 },
 "nbformat": 4,
 "nbformat_minor": 4
}
